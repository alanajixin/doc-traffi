{
 "cells": [
  {
   "cell_type": "code",
   "execution_count": 1,
   "id": "9a31e0bc",
   "metadata": {},
   "outputs": [
    {
     "name": "stderr",
     "output_type": "stream",
     "text": [
      "C:\\ProgramData\\Anaconda3\\lib\\site-packages\\scipy\\__init__.py:138: UserWarning: A NumPy version >=1.16.5 and <1.23.0 is required for this version of SciPy (detected version 1.24.3)\n",
      "  warnings.warn(f\"A NumPy version >={np_minversion} and <{np_maxversion} is required for this version of \"\n"
     ]
    }
   ],
   "source": [
    "import numpy as np\n",
    "import pandas as pd\n",
    "import matplotlib.pyplot as plt\n",
    "import seaborn as sns"
   ]
  },
  {
   "cell_type": "code",
   "execution_count": 2,
   "id": "06eb461f",
   "metadata": {},
   "outputs": [],
   "source": [
    "data=pd.read_csv(\"C:\\\\Users\\\\Asus\\\\Downloads\\\\traffic.csv\")"
   ]
  },
  {
   "cell_type": "code",
   "execution_count": 3,
   "id": "ad4f8a53",
   "metadata": {},
   "outputs": [
    {
     "data": {
      "text/html": [
       "<div>\n",
       "<style scoped>\n",
       "    .dataframe tbody tr th:only-of-type {\n",
       "        vertical-align: middle;\n",
       "    }\n",
       "\n",
       "    .dataframe tbody tr th {\n",
       "        vertical-align: top;\n",
       "    }\n",
       "\n",
       "    .dataframe thead th {\n",
       "        text-align: right;\n",
       "    }\n",
       "</style>\n",
       "<table border=\"1\" class=\"dataframe\">\n",
       "  <thead>\n",
       "    <tr style=\"text-align: right;\">\n",
       "      <th></th>\n",
       "      <th>event</th>\n",
       "      <th>date</th>\n",
       "      <th>country</th>\n",
       "      <th>city</th>\n",
       "      <th>artist</th>\n",
       "      <th>album</th>\n",
       "      <th>track</th>\n",
       "      <th>isrc</th>\n",
       "      <th>linkid</th>\n",
       "    </tr>\n",
       "  </thead>\n",
       "  <tbody>\n",
       "    <tr>\n",
       "      <th>0</th>\n",
       "      <td>click</td>\n",
       "      <td>2021-08-21</td>\n",
       "      <td>Saudi Arabia</td>\n",
       "      <td>Jeddah</td>\n",
       "      <td>Tesher</td>\n",
       "      <td>Jalebi Baby</td>\n",
       "      <td>Jalebi Baby</td>\n",
       "      <td>QZNWQ2070741</td>\n",
       "      <td>2d896d31-97b6-4869-967b-1c5fb9cd4bb8</td>\n",
       "    </tr>\n",
       "    <tr>\n",
       "      <th>1</th>\n",
       "      <td>click</td>\n",
       "      <td>2021-08-21</td>\n",
       "      <td>Saudi Arabia</td>\n",
       "      <td>Jeddah</td>\n",
       "      <td>Tesher</td>\n",
       "      <td>Jalebi Baby</td>\n",
       "      <td>Jalebi Baby</td>\n",
       "      <td>QZNWQ2070741</td>\n",
       "      <td>2d896d31-97b6-4869-967b-1c5fb9cd4bb8</td>\n",
       "    </tr>\n",
       "    <tr>\n",
       "      <th>2</th>\n",
       "      <td>click</td>\n",
       "      <td>2021-08-21</td>\n",
       "      <td>India</td>\n",
       "      <td>Ludhiana</td>\n",
       "      <td>Reyanna Maria</td>\n",
       "      <td>So Pretty</td>\n",
       "      <td>So Pretty</td>\n",
       "      <td>USUM72100871</td>\n",
       "      <td>23199824-9cf5-4b98-942a-34965c3b0cc2</td>\n",
       "    </tr>\n",
       "    <tr>\n",
       "      <th>3</th>\n",
       "      <td>click</td>\n",
       "      <td>2021-08-21</td>\n",
       "      <td>France</td>\n",
       "      <td>Unknown</td>\n",
       "      <td>Simone &amp; Simaria, Sebastian Yatra</td>\n",
       "      <td>No Llores Más</td>\n",
       "      <td>No Llores Más</td>\n",
       "      <td>BRUM72003904</td>\n",
       "      <td>35573248-4e49-47c7-af80-08a960fa74cd</td>\n",
       "    </tr>\n",
       "    <tr>\n",
       "      <th>4</th>\n",
       "      <td>click</td>\n",
       "      <td>2021-08-21</td>\n",
       "      <td>Maldives</td>\n",
       "      <td>Malé</td>\n",
       "      <td>Tesher</td>\n",
       "      <td>Jalebi Baby</td>\n",
       "      <td>Jalebi Baby</td>\n",
       "      <td>QZNWQ2070741</td>\n",
       "      <td>2d896d31-97b6-4869-967b-1c5fb9cd4bb8</td>\n",
       "    </tr>\n",
       "  </tbody>\n",
       "</table>\n",
       "</div>"
      ],
      "text/plain": [
       "   event        date       country      city  \\\n",
       "0  click  2021-08-21  Saudi Arabia    Jeddah   \n",
       "1  click  2021-08-21  Saudi Arabia    Jeddah   \n",
       "2  click  2021-08-21         India  Ludhiana   \n",
       "3  click  2021-08-21        France   Unknown   \n",
       "4  click  2021-08-21      Maldives      Malé   \n",
       "\n",
       "                              artist          album          track  \\\n",
       "0                             Tesher    Jalebi Baby    Jalebi Baby   \n",
       "1                             Tesher    Jalebi Baby    Jalebi Baby   \n",
       "2                      Reyanna Maria      So Pretty      So Pretty   \n",
       "3  Simone & Simaria, Sebastian Yatra  No Llores Más  No Llores Más   \n",
       "4                             Tesher    Jalebi Baby    Jalebi Baby   \n",
       "\n",
       "           isrc                                linkid  \n",
       "0  QZNWQ2070741  2d896d31-97b6-4869-967b-1c5fb9cd4bb8  \n",
       "1  QZNWQ2070741  2d896d31-97b6-4869-967b-1c5fb9cd4bb8  \n",
       "2  USUM72100871  23199824-9cf5-4b98-942a-34965c3b0cc2  \n",
       "3  BRUM72003904  35573248-4e49-47c7-af80-08a960fa74cd  \n",
       "4  QZNWQ2070741  2d896d31-97b6-4869-967b-1c5fb9cd4bb8  "
      ]
     },
     "execution_count": 3,
     "metadata": {},
     "output_type": "execute_result"
    }
   ],
   "source": [
    "data.head()"
   ]
  },
  {
   "cell_type": "markdown",
   "id": "124939d9",
   "metadata": {},
   "source": [
    "# Event which are pageview"
   ]
  },
  {
   "cell_type": "code",
   "execution_count": 4,
   "id": "315eb7ef",
   "metadata": {},
   "outputs": [
    {
     "data": {
      "text/html": [
       "<div>\n",
       "<style scoped>\n",
       "    .dataframe tbody tr th:only-of-type {\n",
       "        vertical-align: middle;\n",
       "    }\n",
       "\n",
       "    .dataframe tbody tr th {\n",
       "        vertical-align: top;\n",
       "    }\n",
       "\n",
       "    .dataframe thead th {\n",
       "        text-align: right;\n",
       "    }\n",
       "</style>\n",
       "<table border=\"1\" class=\"dataframe\">\n",
       "  <thead>\n",
       "    <tr style=\"text-align: right;\">\n",
       "      <th></th>\n",
       "      <th>event</th>\n",
       "      <th>date</th>\n",
       "      <th>country</th>\n",
       "      <th>city</th>\n",
       "      <th>artist</th>\n",
       "      <th>album</th>\n",
       "      <th>track</th>\n",
       "      <th>isrc</th>\n",
       "      <th>linkid</th>\n",
       "    </tr>\n",
       "  </thead>\n",
       "  <tbody>\n",
       "    <tr>\n",
       "      <th>84043</th>\n",
       "      <td>pageview</td>\n",
       "      <td>2021-08-19</td>\n",
       "      <td>Saudi Arabia</td>\n",
       "      <td>Riyadh</td>\n",
       "      <td>Tesher</td>\n",
       "      <td>Jalebi Baby</td>\n",
       "      <td>Jalebi Baby</td>\n",
       "      <td>QZNWQ2070741</td>\n",
       "      <td>2d896d31-97b6-4869-967b-1c5fb9cd4bb8</td>\n",
       "    </tr>\n",
       "    <tr>\n",
       "      <th>84044</th>\n",
       "      <td>pageview</td>\n",
       "      <td>2021-08-19</td>\n",
       "      <td>United States</td>\n",
       "      <td>Absecon</td>\n",
       "      <td>KA$HDAMI</td>\n",
       "      <td>epiphany</td>\n",
       "      <td>Reparations!</td>\n",
       "      <td>QZFYY2115255</td>\n",
       "      <td>9c61dba1-9369-4ee4-a215-1d34581cd811</td>\n",
       "    </tr>\n",
       "    <tr>\n",
       "      <th>84045</th>\n",
       "      <td>pageview</td>\n",
       "      <td>2021-08-19</td>\n",
       "      <td>Saudi Arabia</td>\n",
       "      <td>Riyadh</td>\n",
       "      <td>Tesher</td>\n",
       "      <td>Jalebi Baby</td>\n",
       "      <td>Jalebi Baby</td>\n",
       "      <td>QZNWQ2070741</td>\n",
       "      <td>2d896d31-97b6-4869-967b-1c5fb9cd4bb8</td>\n",
       "    </tr>\n",
       "    <tr>\n",
       "      <th>84046</th>\n",
       "      <td>pageview</td>\n",
       "      <td>2021-08-19</td>\n",
       "      <td>Ireland</td>\n",
       "      <td>Mullingar</td>\n",
       "      <td>Cardi B</td>\n",
       "      <td>Up</td>\n",
       "      <td>Up</td>\n",
       "      <td>USAT22100061</td>\n",
       "      <td>9d847c0e-6824-438f-9dc1-d76fca6dc87c</td>\n",
       "    </tr>\n",
       "    <tr>\n",
       "      <th>84047</th>\n",
       "      <td>pageview</td>\n",
       "      <td>2021-08-19</td>\n",
       "      <td>United Kingdom</td>\n",
       "      <td>Northampton</td>\n",
       "      <td>Kayla Nicole, Taylor Girlz, Flo Milli</td>\n",
       "      <td>Bundles 2 (feat. Flo Milli, Taylor Girlz)</td>\n",
       "      <td>Bundles 2 (feat. Flo Milli, Taylor Girlz)</td>\n",
       "      <td>QMCE32100359</td>\n",
       "      <td>fbf4b935-f961-4b13-b1d8-45ad47093559</td>\n",
       "    </tr>\n",
       "    <tr>\n",
       "      <th>...</th>\n",
       "      <td>...</td>\n",
       "      <td>...</td>\n",
       "      <td>...</td>\n",
       "      <td>...</td>\n",
       "      <td>...</td>\n",
       "      <td>...</td>\n",
       "      <td>...</td>\n",
       "      <td>...</td>\n",
       "      <td>...</td>\n",
       "    </tr>\n",
       "    <tr>\n",
       "      <th>226273</th>\n",
       "      <td>pageview</td>\n",
       "      <td>2021-08-24</td>\n",
       "      <td>Kuwait</td>\n",
       "      <td>Kuwait City</td>\n",
       "      <td>Sean Paul</td>\n",
       "      <td>The Trinity</td>\n",
       "      <td>Temperature</td>\n",
       "      <td>USAT20505520</td>\n",
       "      <td>04ba6b17-1055-4f0e-a75e-3cdb0d0d4106</td>\n",
       "    </tr>\n",
       "    <tr>\n",
       "      <th>226274</th>\n",
       "      <td>pageview</td>\n",
       "      <td>2021-08-24</td>\n",
       "      <td>India</td>\n",
       "      <td>Chennai</td>\n",
       "      <td>Miscél</td>\n",
       "      <td>when you left</td>\n",
       "      <td>when you left</td>\n",
       "      <td>QM42K1907890</td>\n",
       "      <td>2fc15e8b-83aa-40ee-9f9d-5d96c6d4356c</td>\n",
       "    </tr>\n",
       "    <tr>\n",
       "      <th>226275</th>\n",
       "      <td>pageview</td>\n",
       "      <td>2021-08-24</td>\n",
       "      <td>India</td>\n",
       "      <td>Jaipur</td>\n",
       "      <td>Trippie Redd, Lil Uzi Vert</td>\n",
       "      <td>Holy Smokes (feat. Lil Uzi Vert)</td>\n",
       "      <td>Holy Smokes</td>\n",
       "      <td>QZJ842001118</td>\n",
       "      <td>eedc8702-6bd2-499a-972f-260c35f72e0f</td>\n",
       "    </tr>\n",
       "    <tr>\n",
       "      <th>226276</th>\n",
       "      <td>pageview</td>\n",
       "      <td>2021-08-24</td>\n",
       "      <td>France</td>\n",
       "      <td>Unknown</td>\n",
       "      <td>Young Thug</td>\n",
       "      <td>Tick Tock</td>\n",
       "      <td>Tick Tock</td>\n",
       "      <td>USAT22104514</td>\n",
       "      <td>e0a76dc3-7ccd-405f-8ee8-a2c55c0e0ed2</td>\n",
       "    </tr>\n",
       "    <tr>\n",
       "      <th>226277</th>\n",
       "      <td>pageview</td>\n",
       "      <td>2021-08-24</td>\n",
       "      <td>Iraq</td>\n",
       "      <td>Duhok</td>\n",
       "      <td>Tesher</td>\n",
       "      <td>Jalebi Baby</td>\n",
       "      <td>Jalebi Baby</td>\n",
       "      <td>QZNWQ2070741</td>\n",
       "      <td>2d896d31-97b6-4869-967b-1c5fb9cd4bb8</td>\n",
       "    </tr>\n",
       "  </tbody>\n",
       "</table>\n",
       "<p>142015 rows × 9 columns</p>\n",
       "</div>"
      ],
      "text/plain": [
       "           event        date         country         city  \\\n",
       "84043   pageview  2021-08-19    Saudi Arabia       Riyadh   \n",
       "84044   pageview  2021-08-19   United States      Absecon   \n",
       "84045   pageview  2021-08-19    Saudi Arabia       Riyadh   \n",
       "84046   pageview  2021-08-19         Ireland    Mullingar   \n",
       "84047   pageview  2021-08-19  United Kingdom  Northampton   \n",
       "...          ...         ...             ...          ...   \n",
       "226273  pageview  2021-08-24          Kuwait  Kuwait City   \n",
       "226274  pageview  2021-08-24           India      Chennai   \n",
       "226275  pageview  2021-08-24           India       Jaipur   \n",
       "226276  pageview  2021-08-24          France      Unknown   \n",
       "226277  pageview  2021-08-24            Iraq        Duhok   \n",
       "\n",
       "                                       artist  \\\n",
       "84043                                  Tesher   \n",
       "84044                                KA$HDAMI   \n",
       "84045                                  Tesher   \n",
       "84046                                 Cardi B   \n",
       "84047   Kayla Nicole, Taylor Girlz, Flo Milli   \n",
       "...                                       ...   \n",
       "226273                              Sean Paul   \n",
       "226274                                 Miscél   \n",
       "226275             Trippie Redd, Lil Uzi Vert   \n",
       "226276                             Young Thug   \n",
       "226277                                 Tesher   \n",
       "\n",
       "                                            album  \\\n",
       "84043                                 Jalebi Baby   \n",
       "84044                                    epiphany   \n",
       "84045                                 Jalebi Baby   \n",
       "84046                                          Up   \n",
       "84047   Bundles 2 (feat. Flo Milli, Taylor Girlz)   \n",
       "...                                           ...   \n",
       "226273                                The Trinity   \n",
       "226274                              when you left   \n",
       "226275           Holy Smokes (feat. Lil Uzi Vert)   \n",
       "226276                                  Tick Tock   \n",
       "226277                                Jalebi Baby   \n",
       "\n",
       "                                            track          isrc  \\\n",
       "84043                                 Jalebi Baby  QZNWQ2070741   \n",
       "84044                                Reparations!  QZFYY2115255   \n",
       "84045                                 Jalebi Baby  QZNWQ2070741   \n",
       "84046                                          Up  USAT22100061   \n",
       "84047   Bundles 2 (feat. Flo Milli, Taylor Girlz)  QMCE32100359   \n",
       "...                                           ...           ...   \n",
       "226273                                Temperature  USAT20505520   \n",
       "226274                              when you left  QM42K1907890   \n",
       "226275                                Holy Smokes  QZJ842001118   \n",
       "226276                                  Tick Tock  USAT22104514   \n",
       "226277                                Jalebi Baby  QZNWQ2070741   \n",
       "\n",
       "                                      linkid  \n",
       "84043   2d896d31-97b6-4869-967b-1c5fb9cd4bb8  \n",
       "84044   9c61dba1-9369-4ee4-a215-1d34581cd811  \n",
       "84045   2d896d31-97b6-4869-967b-1c5fb9cd4bb8  \n",
       "84046   9d847c0e-6824-438f-9dc1-d76fca6dc87c  \n",
       "84047   fbf4b935-f961-4b13-b1d8-45ad47093559  \n",
       "...                                      ...  \n",
       "226273  04ba6b17-1055-4f0e-a75e-3cdb0d0d4106  \n",
       "226274  2fc15e8b-83aa-40ee-9f9d-5d96c6d4356c  \n",
       "226275  eedc8702-6bd2-499a-972f-260c35f72e0f  \n",
       "226276  e0a76dc3-7ccd-405f-8ee8-a2c55c0e0ed2  \n",
       "226277  2d896d31-97b6-4869-967b-1c5fb9cd4bb8  \n",
       "\n",
       "[142015 rows x 9 columns]"
      ]
     },
     "execution_count": 4,
     "metadata": {},
     "output_type": "execute_result"
    }
   ],
   "source": [
    "# Filter the rows where 'event' column contains 'pageview'\n",
    "pageview_events = data[data['event'] == 'pageview']\n",
    "pageview_events"
   ]
  },
  {
   "cell_type": "markdown",
   "id": "8227cf44",
   "metadata": {},
   "source": [
    "### **Total pageview event**"
   ]
  },
  {
   "cell_type": "code",
   "execution_count": 5,
   "id": "1939b4c2",
   "metadata": {},
   "outputs": [],
   "source": [
    "# Calculate the total number of pageview events\n",
    "total_pageviews = len(pageview_events)"
   ]
  },
  {
   "cell_type": "code",
   "execution_count": 6,
   "id": "ec8a24c9",
   "metadata": {},
   "outputs": [
    {
     "name": "stdout",
     "output_type": "stream",
     "text": [
      "Total number of pageview events are :  142015\n"
     ]
    }
   ],
   "source": [
    "print(\"Total number of pageview events are : \",total_pageviews)"
   ]
  },
  {
   "cell_type": "markdown",
   "id": "e14da713",
   "metadata": {},
   "source": [
    "### **Daily Pageview Events**"
   ]
  },
  {
   "cell_type": "code",
   "execution_count": 7,
   "id": "a746b5cd",
   "metadata": {},
   "outputs": [
    {
     "data": {
      "text/plain": [
       "0         2021-08-21\n",
       "1         2021-08-21\n",
       "2         2021-08-21\n",
       "3         2021-08-21\n",
       "4         2021-08-21\n",
       "             ...    \n",
       "226273    2021-08-24\n",
       "226274    2021-08-24\n",
       "226275    2021-08-24\n",
       "226276    2021-08-24\n",
       "226277    2021-08-24\n",
       "Name: date, Length: 226278, dtype: object"
      ]
     },
     "execution_count": 7,
     "metadata": {},
     "output_type": "execute_result"
    }
   ],
   "source": [
    "\n",
    "data['date'] "
   ]
  },
  {
   "cell_type": "code",
   "execution_count": 7,
   "id": "aaa55a0a",
   "metadata": {},
   "outputs": [],
   "source": [
    "# Find the unique dates and calculate the number of days\n",
    "total_days = data['date'].nunique()\n"
   ]
  },
  {
   "cell_type": "code",
   "execution_count": 8,
   "id": "e749a27a",
   "metadata": {},
   "outputs": [
    {
     "name": "stdout",
     "output_type": "stream",
     "text": [
      "Total unique days: 7\n"
     ]
    }
   ],
   "source": [
    "print(f\"Total unique days: {total_days}\")"
   ]
  },
  {
   "cell_type": "code",
   "execution_count": 9,
   "id": "edbc3c21",
   "metadata": {},
   "outputs": [],
   "source": [
    "# Calculate the average number of pageviews per day\n",
    "average_pageviews_per_day = total_pageviews / total_days if total_days > 0 else 0"
   ]
  },
  {
   "cell_type": "code",
   "execution_count": 10,
   "id": "e8fe65f4",
   "metadata": {},
   "outputs": [
    {
     "name": "stdout",
     "output_type": "stream",
     "text": [
      "Average Pageviews Per Day: 20287.86\n"
     ]
    }
   ],
   "source": [
    "print(f\"Average Pageviews Per Day: {average_pageviews_per_day:.2f}\")"
   ]
  },
  {
   "cell_type": "markdown",
   "id": "a09337a9",
   "metadata": {},
   "source": [
    "### **Analysis of Other Events**"
   ]
  },
  {
   "cell_type": "code",
   "execution_count": 11,
   "id": "f5714da3",
   "metadata": {},
   "outputs": [
    {
     "data": {
      "text/plain": [
       "array(['click', 'preview', 'pageview'], dtype=object)"
      ]
     },
     "execution_count": 11,
     "metadata": {},
     "output_type": "execute_result"
    }
   ],
   "source": [
    "# unique events are\n",
    "data['event'].unique()"
   ]
  },
  {
   "cell_type": "code",
   "execution_count": 12,
   "id": "31baa784",
   "metadata": {},
   "outputs": [],
   "source": [
    "# Count the total number of events that are not 'pageview'\n",
    "non_pageview_events = data[data['event'] != 'pageview']"
   ]
  },
  {
   "cell_type": "code",
   "execution_count": 13,
   "id": "81fedacc",
   "metadata": {},
   "outputs": [],
   "source": [
    "# Get the count of each type of event\n",
    "event_distribution = non_pageview_events['event'].value_counts()"
   ]
  },
  {
   "cell_type": "code",
   "execution_count": 14,
   "id": "1adb1036",
   "metadata": {},
   "outputs": [],
   "source": [
    "# Calculate the total number of non-pageview events\n",
    "total_non_pageview_events = len(non_pageview_events)\n"
   ]
  },
  {
   "cell_type": "code",
   "execution_count": 15,
   "id": "bf743641",
   "metadata": {},
   "outputs": [
    {
     "name": "stdout",
     "output_type": "stream",
     "text": [
      "Total Non-Pageview Events: 84263\n",
      "Distribution of Other Events:\n",
      "click      55732\n",
      "preview    28531\n",
      "Name: event, dtype: int64\n"
     ]
    }
   ],
   "source": [
    "# Output the results\n",
    "print(f\"Total Non-Pageview Events: {total_non_pageview_events}\")\n",
    "print(f\"Distribution of Other Events:\\n{event_distribution}\")"
   ]
  },
  {
   "cell_type": "markdown",
   "id": "a927cf7c",
   "metadata": {},
   "source": [
    "### **Geographical Distribution:**"
   ]
  },
  {
   "cell_type": "markdown",
   "id": "4cb6457a",
   "metadata": {},
   "source": [
    "#### **countries contributed to the pageviews** ####"
   ]
  },
  {
   "cell_type": "code",
   "execution_count": 16,
   "id": "484aefeb",
   "metadata": {},
   "outputs": [],
   "source": [
    "# Extract unique countries from 'pageview' events\n",
    "countries_contributing_to_pageviews = pageview_events['country'].unique()\n"
   ]
  },
  {
   "cell_type": "code",
   "execution_count": 17,
   "id": "5be9187a",
   "metadata": {},
   "outputs": [
    {
     "name": "stdout",
     "output_type": "stream",
     "text": [
      "Countries contributing to pageviews:\n",
      "Saudi Arabia\n",
      "United States\n",
      "Ireland\n",
      "United Kingdom\n",
      "France\n",
      "Guatemala\n",
      "Jordan\n",
      "Kuwait\n",
      "Pakistan\n",
      "Italy\n",
      "Germany\n",
      "Iraq\n",
      "Peru\n",
      "India\n",
      "Nicaragua\n",
      "Rwanda\n",
      "Tanzania\n",
      "United Arab Emirates\n",
      "Norway\n",
      "Oman\n",
      "Bahamas\n",
      "Algeria\n",
      "Czechia\n",
      "Mexico\n",
      "Jamaica\n",
      "Netherlands\n",
      "Colombia\n",
      "Morocco\n",
      "Australia\n",
      "Myanmar\n",
      "Uzbekistan\n",
      "Austria\n",
      "Latvia\n",
      "Turkey\n",
      "Mauritania\n",
      "Sri Lanka\n",
      "Bosnia and Herzegovina\n",
      "Estonia\n",
      "Nigeria\n",
      "Bulgaria\n",
      "Greece\n",
      "El Salvador\n",
      "Philippines\n",
      "Denmark\n",
      "Serbia\n",
      "Canada\n",
      "Spain\n",
      "Libya\n",
      "Palestine\n",
      "Chad\n",
      "Ecuador\n",
      "Mali\n",
      "Romania\n",
      "Switzerland\n",
      "Portugal\n",
      "Slovenia\n",
      "Iceland\n",
      "Sweden\n",
      "Bahrain\n",
      "Egypt\n",
      "Lithuania\n",
      "Liberia\n",
      "Israel\n",
      "Ukraine\n",
      "Puerto Rico\n",
      "South Africa\n",
      "Ghana\n",
      "Kenya\n",
      "Armenia\n",
      "Nepal\n",
      "Barbados\n",
      "Azerbaijan\n",
      "Qatar\n",
      "Uganda\n",
      "Poland\n",
      "Brazil\n",
      "Guyana\n",
      "Fiji\n",
      "Bangladesh\n",
      "Belgium\n",
      "Hong Kong\n",
      "Haiti\n",
      "Botswana\n",
      "Ivory Coast\n",
      "Bhutan\n",
      "Indonesia\n",
      "Réunion\n",
      "Cameroon\n",
      "Singapore\n",
      "Yemen\n",
      "French Guiana\n",
      "Slovakia\n",
      "Dominican Republic\n",
      "Russia\n",
      "Cabo Verde\n",
      "Kyrgyzstan\n",
      "New Zealand\n",
      "U.S. Virgin Islands\n",
      "Albania\n",
      "Venezuela\n",
      "Burkina Faso\n",
      "Montenegro\n",
      "Paraguay\n",
      "Bolivia\n",
      "Cyprus\n",
      "Mayotte\n",
      "Thailand\n",
      "Maldives\n",
      "Tunisia\n",
      "Namibia\n",
      "Costa Rica\n",
      "Croatia\n",
      "Trinidad and Tobago\n",
      "Senegal\n",
      "Suriname\n",
      "Malaysia\n",
      "Honduras\n",
      "DR Congo\n",
      "South Korea\n",
      "Finland\n",
      "Mozambique\n",
      "Hungary\n",
      "Kazakhstan\n",
      "Zambia\n",
      "Somalia\n",
      "Moldova\n",
      "Cayman Islands\n",
      "Saint Vincent and the Grenadines\n",
      "Martinique\n",
      "Guadeloupe\n",
      "Kosovo\n",
      "Sudan\n",
      "Saint Lucia\n",
      "Uruguay\n",
      "nan\n",
      "Mauritius\n",
      "Aruba\n",
      "Curaçao\n",
      "British Virgin Islands\n",
      "Vietnam\n",
      "Laos\n",
      "Sierra Leone\n",
      "Seychelles\n",
      "Guinea\n",
      "Lebanon\n",
      "Angola\n",
      "Belize\n",
      "Togo\n",
      "Turks and Caicos Islands\n",
      "Georgia\n",
      "Gabon\n",
      "Argentina\n",
      "North Macedonia\n",
      "Benin\n",
      "Ethiopia\n",
      "Niger\n",
      "Zimbabwe\n",
      "St Kitts and Nevis\n",
      "Malawi\n",
      "Chile\n",
      "Madagascar\n",
      "Panama\n",
      "Luxembourg\n",
      "Grenada\n",
      "Greenland\n",
      "Mongolia\n",
      "Taiwan\n",
      "Liechtenstein\n",
      "Anguilla\n",
      "Principality of Monaco\n",
      "Djibouti\n",
      "Samoa\n",
      "Åland\n",
      "Eswatini\n",
      "Faroe Islands\n",
      "Cambodia\n",
      "China\n",
      "French Polynesia\n",
      "Papua New Guinea\n",
      "Japan\n",
      "Lesotho\n",
      "Eritrea\n",
      "Iran\n",
      "Antigua and Barbuda\n",
      "Burundi\n",
      "Belarus\n",
      "Guinea-Bissau\n",
      "Bermuda\n",
      "Gambia\n",
      "Isle of Man\n",
      "American Samoa\n",
      "Tajikistan\n",
      "Comoros\n",
      "Jersey\n",
      "Andorra\n",
      "Brunei\n",
      "Congo Republic\n",
      "Syria\n",
      "Dominica\n",
      "New Caledonia\n",
      "Marshall Islands\n",
      "Macao\n",
      "Gibraltar\n",
      "Palau\n",
      "Solomon Islands\n",
      "Malta\n",
      "Wallis and Futuna\n",
      "Afghanistan\n",
      "Central African Republic\n",
      "Guernsey\n",
      "Sint Maarten\n",
      "Saint Martin\n"
     ]
    }
   ],
   "source": [
    "# Output the countries\n",
    "print(\"Countries contributing to pageviews:\")\n",
    "for country in countries_contributing_to_pageviews:\n",
    "    print(country)"
   ]
  },
  {
   "cell_type": "markdown",
   "id": "070b0242",
   "metadata": {},
   "source": [
    "## Click-Through Rate (CTR) Analysis: ##"
   ]
  },
  {
   "cell_type": "markdown",
   "id": "ad0ae20f",
   "metadata": {},
   "source": [
    "### **overall click-through rate (CTR) calculated as clicks/pageviews** ###"
   ]
  },
  {
   "cell_type": "markdown",
   "id": "40c7d4ac",
   "metadata": {},
   "source": [
    " CTR is calculated as:\n",
    "CTR = Total Clicks/Total Pageviews *100\n",
    "\n",
    " \n"
   ]
  },
  {
   "cell_type": "code",
   "execution_count": 18,
   "id": "7bb44ece",
   "metadata": {},
   "outputs": [],
   "source": [
    "# Calculate total pageviews and clicks\n",
    "total_pageviews = data[data['event'] == 'pageview'].shape[0]\n",
    "total_clicks = data[data['event'] == 'click'].shape[0]"
   ]
  },
  {
   "cell_type": "code",
   "execution_count": 19,
   "id": "069367a1",
   "metadata": {},
   "outputs": [
    {
     "name": "stdout",
     "output_type": "stream",
     "text": [
      "Overall CTR: 39.24%\n"
     ]
    }
   ],
   "source": [
    "# Calculate overall CTR\n",
    "overall_ctr = (total_clicks / total_pageviews) * 100\n",
    "print(f\"Overall CTR: {overall_ctr:.2f}%\")"
   ]
  },
  {
   "cell_type": "markdown",
   "id": "d6657102",
   "metadata": {},
   "source": [
    "### **Calculate CTR per link** ###"
   ]
  },
  {
   "cell_type": "markdown",
   "id": "c2e13e31",
   "metadata": {},
   "source": [
    " Calculate the number of clicks and pageviews per link and then compute the CTR for each link.Group the data by 'linkid' and calculate the sum of clicks and pageviews per link. "
   ]
  },
  {
   "cell_type": "code",
   "execution_count": 20,
   "id": "f35f86bf",
   "metadata": {},
   "outputs": [],
   "source": [
    "ctr_per_link = data.groupby('linkid').apply(\n",
    "    lambda x: pd.Series({\n",
    "        'clicks': x[x['event'] == 'click'].shape[0],\n",
    "        'pageviews': x[x['event'] == 'pageview'].shape[0]\n",
    "    })\n",
    ")"
   ]
  },
  {
   "cell_type": "code",
   "execution_count": 21,
   "id": "51e9747a",
   "metadata": {},
   "outputs": [
    {
     "data": {
      "text/html": [
       "<div>\n",
       "<style scoped>\n",
       "    .dataframe tbody tr th:only-of-type {\n",
       "        vertical-align: middle;\n",
       "    }\n",
       "\n",
       "    .dataframe tbody tr th {\n",
       "        vertical-align: top;\n",
       "    }\n",
       "\n",
       "    .dataframe thead th {\n",
       "        text-align: right;\n",
       "    }\n",
       "</style>\n",
       "<table border=\"1\" class=\"dataframe\">\n",
       "  <thead>\n",
       "    <tr style=\"text-align: right;\">\n",
       "      <th></th>\n",
       "      <th>clicks</th>\n",
       "      <th>pageviews</th>\n",
       "    </tr>\n",
       "    <tr>\n",
       "      <th>linkid</th>\n",
       "      <th></th>\n",
       "      <th></th>\n",
       "    </tr>\n",
       "  </thead>\n",
       "  <tbody>\n",
       "    <tr>\n",
       "      <th>00073307-ae96-5089-a117-4783afb42f8e</th>\n",
       "      <td>0</td>\n",
       "      <td>2</td>\n",
       "    </tr>\n",
       "    <tr>\n",
       "      <th>00126b32-0c35-507b-981c-02c80d2aa8e7</th>\n",
       "      <td>2</td>\n",
       "      <td>2</td>\n",
       "    </tr>\n",
       "    <tr>\n",
       "      <th>0018cfff-50a1-5984-9715-01ef2d11a49a</th>\n",
       "      <td>0</td>\n",
       "      <td>1</td>\n",
       "    </tr>\n",
       "    <tr>\n",
       "      <th>0033934b-5d16-5a06-af58-d087bcdd3680</th>\n",
       "      <td>0</td>\n",
       "      <td>1</td>\n",
       "    </tr>\n",
       "    <tr>\n",
       "      <th>0034d6cf-3bd8-5ffe-aafc-b3959fc48608</th>\n",
       "      <td>0</td>\n",
       "      <td>1</td>\n",
       "    </tr>\n",
       "    <tr>\n",
       "      <th>...</th>\n",
       "      <td>...</td>\n",
       "      <td>...</td>\n",
       "    </tr>\n",
       "    <tr>\n",
       "      <th>fff38ca0-8043-50cd-a5f1-f65ebb7105c5</th>\n",
       "      <td>1</td>\n",
       "      <td>1</td>\n",
       "    </tr>\n",
       "    <tr>\n",
       "      <th>fff4e5f0-4ee5-5fe7-aa30-e870edaf6ed7</th>\n",
       "      <td>0</td>\n",
       "      <td>2</td>\n",
       "    </tr>\n",
       "    <tr>\n",
       "      <th>fff84c0e-90a1-59d8-9997-adc909d50e16</th>\n",
       "      <td>1</td>\n",
       "      <td>1</td>\n",
       "    </tr>\n",
       "    <tr>\n",
       "      <th>fffc17a7-f935-5d3e-bd3e-d761fd80d479</th>\n",
       "      <td>1</td>\n",
       "      <td>2</td>\n",
       "    </tr>\n",
       "    <tr>\n",
       "      <th>fffd0045-29de-522b-b5d8-35786363bf07</th>\n",
       "      <td>1</td>\n",
       "      <td>2</td>\n",
       "    </tr>\n",
       "  </tbody>\n",
       "</table>\n",
       "<p>3839 rows × 2 columns</p>\n",
       "</div>"
      ],
      "text/plain": [
       "                                      clicks  pageviews\n",
       "linkid                                                 \n",
       "00073307-ae96-5089-a117-4783afb42f8e       0          2\n",
       "00126b32-0c35-507b-981c-02c80d2aa8e7       2          2\n",
       "0018cfff-50a1-5984-9715-01ef2d11a49a       0          1\n",
       "0033934b-5d16-5a06-af58-d087bcdd3680       0          1\n",
       "0034d6cf-3bd8-5ffe-aafc-b3959fc48608       0          1\n",
       "...                                      ...        ...\n",
       "fff38ca0-8043-50cd-a5f1-f65ebb7105c5       1          1\n",
       "fff4e5f0-4ee5-5fe7-aa30-e870edaf6ed7       0          2\n",
       "fff84c0e-90a1-59d8-9997-adc909d50e16       1          1\n",
       "fffc17a7-f935-5d3e-bd3e-d761fd80d479       1          2\n",
       "fffd0045-29de-522b-b5d8-35786363bf07       1          2\n",
       "\n",
       "[3839 rows x 2 columns]"
      ]
     },
     "execution_count": 21,
     "metadata": {},
     "output_type": "execute_result"
    }
   ],
   "source": [
    "ctr_per_link"
   ]
  },
  {
   "cell_type": "code",
   "execution_count": 22,
   "id": "48606e2c",
   "metadata": {},
   "outputs": [],
   "source": [
    "# Add a column for CTR\n",
    "ctr_per_link['CTR'] = (ctr_per_link['clicks'] / ctr_per_link['pageviews']) * 100\n"
   ]
  },
  {
   "cell_type": "code",
   "execution_count": 23,
   "id": "63964552",
   "metadata": {},
   "outputs": [
    {
     "data": {
      "text/html": [
       "<div>\n",
       "<style scoped>\n",
       "    .dataframe tbody tr th:only-of-type {\n",
       "        vertical-align: middle;\n",
       "    }\n",
       "\n",
       "    .dataframe tbody tr th {\n",
       "        vertical-align: top;\n",
       "    }\n",
       "\n",
       "    .dataframe thead th {\n",
       "        text-align: right;\n",
       "    }\n",
       "</style>\n",
       "<table border=\"1\" class=\"dataframe\">\n",
       "  <thead>\n",
       "    <tr style=\"text-align: right;\">\n",
       "      <th></th>\n",
       "      <th>clicks</th>\n",
       "      <th>pageviews</th>\n",
       "      <th>CTR</th>\n",
       "    </tr>\n",
       "    <tr>\n",
       "      <th>linkid</th>\n",
       "      <th></th>\n",
       "      <th></th>\n",
       "      <th></th>\n",
       "    </tr>\n",
       "  </thead>\n",
       "  <tbody>\n",
       "    <tr>\n",
       "      <th>00073307-ae96-5089-a117-4783afb42f8e</th>\n",
       "      <td>0</td>\n",
       "      <td>2</td>\n",
       "      <td>0.0</td>\n",
       "    </tr>\n",
       "    <tr>\n",
       "      <th>00126b32-0c35-507b-981c-02c80d2aa8e7</th>\n",
       "      <td>2</td>\n",
       "      <td>2</td>\n",
       "      <td>100.0</td>\n",
       "    </tr>\n",
       "    <tr>\n",
       "      <th>0018cfff-50a1-5984-9715-01ef2d11a49a</th>\n",
       "      <td>0</td>\n",
       "      <td>1</td>\n",
       "      <td>0.0</td>\n",
       "    </tr>\n",
       "    <tr>\n",
       "      <th>0033934b-5d16-5a06-af58-d087bcdd3680</th>\n",
       "      <td>0</td>\n",
       "      <td>1</td>\n",
       "      <td>0.0</td>\n",
       "    </tr>\n",
       "    <tr>\n",
       "      <th>0034d6cf-3bd8-5ffe-aafc-b3959fc48608</th>\n",
       "      <td>0</td>\n",
       "      <td>1</td>\n",
       "      <td>0.0</td>\n",
       "    </tr>\n",
       "    <tr>\n",
       "      <th>...</th>\n",
       "      <td>...</td>\n",
       "      <td>...</td>\n",
       "      <td>...</td>\n",
       "    </tr>\n",
       "    <tr>\n",
       "      <th>fff38ca0-8043-50cd-a5f1-f65ebb7105c5</th>\n",
       "      <td>1</td>\n",
       "      <td>1</td>\n",
       "      <td>100.0</td>\n",
       "    </tr>\n",
       "    <tr>\n",
       "      <th>fff4e5f0-4ee5-5fe7-aa30-e870edaf6ed7</th>\n",
       "      <td>0</td>\n",
       "      <td>2</td>\n",
       "      <td>0.0</td>\n",
       "    </tr>\n",
       "    <tr>\n",
       "      <th>fff84c0e-90a1-59d8-9997-adc909d50e16</th>\n",
       "      <td>1</td>\n",
       "      <td>1</td>\n",
       "      <td>100.0</td>\n",
       "    </tr>\n",
       "    <tr>\n",
       "      <th>fffc17a7-f935-5d3e-bd3e-d761fd80d479</th>\n",
       "      <td>1</td>\n",
       "      <td>2</td>\n",
       "      <td>50.0</td>\n",
       "    </tr>\n",
       "    <tr>\n",
       "      <th>fffd0045-29de-522b-b5d8-35786363bf07</th>\n",
       "      <td>1</td>\n",
       "      <td>2</td>\n",
       "      <td>50.0</td>\n",
       "    </tr>\n",
       "  </tbody>\n",
       "</table>\n",
       "<p>3839 rows × 3 columns</p>\n",
       "</div>"
      ],
      "text/plain": [
       "                                      clicks  pageviews    CTR\n",
       "linkid                                                        \n",
       "00073307-ae96-5089-a117-4783afb42f8e       0          2    0.0\n",
       "00126b32-0c35-507b-981c-02c80d2aa8e7       2          2  100.0\n",
       "0018cfff-50a1-5984-9715-01ef2d11a49a       0          1    0.0\n",
       "0033934b-5d16-5a06-af58-d087bcdd3680       0          1    0.0\n",
       "0034d6cf-3bd8-5ffe-aafc-b3959fc48608       0          1    0.0\n",
       "...                                      ...        ...    ...\n",
       "fff38ca0-8043-50cd-a5f1-f65ebb7105c5       1          1  100.0\n",
       "fff4e5f0-4ee5-5fe7-aa30-e870edaf6ed7       0          2    0.0\n",
       "fff84c0e-90a1-59d8-9997-adc909d50e16       1          1  100.0\n",
       "fffc17a7-f935-5d3e-bd3e-d761fd80d479       1          2   50.0\n",
       "fffd0045-29de-522b-b5d8-35786363bf07       1          2   50.0\n",
       "\n",
       "[3839 rows x 3 columns]"
      ]
     },
     "execution_count": 23,
     "metadata": {},
     "output_type": "execute_result"
    }
   ],
   "source": [
    "ctr_per_link"
   ]
  },
  {
   "cell_type": "code",
   "execution_count": 24,
   "id": "920b5b83",
   "metadata": {},
   "outputs": [],
   "source": [
    "ctr_per_link = ctr_per_link.dropna()"
   ]
  },
  {
   "cell_type": "code",
   "execution_count": 25,
   "id": "97e6829f",
   "metadata": {},
   "outputs": [
    {
     "name": "stdout",
     "output_type": "stream",
     "text": [
      "\n",
      "CTR per link:\n",
      "                                      clicks  pageviews     CTR\n",
      "linkid                                                         \n",
      "54166799-1895-4f35-9b2f-b249c2f7a351       1          0     inf\n",
      "aee2b83d-5f50-4309-9e62-200c404d4751       1          0     inf\n",
      "c95f1fc1-fab0-4c74-b3f5-52bd3684a713     923         10  9230.0\n",
      "27a91fe1-9fc0-5c28-9e9e-19ff0e7357a7       3          1   300.0\n",
      "330773a6-f22a-5c7a-a3e4-7809fe8539b9       3          1   300.0\n",
      "...                                      ...        ...     ...\n",
      "421fa177-b380-5f27-8e41-4b44375e946a       0          1     0.0\n",
      "a087f66a-346d-561a-a459-c3cdab13940b       0          3     0.0\n",
      "a05d8198-7043-5b88-b7f5-f0f6b73d07da       0          1     0.0\n",
      "a04bbbfc-c800-5924-895d-be99bb734630       0          1     0.0\n",
      "00073307-ae96-5089-a117-4783afb42f8e       0          2     0.0\n",
      "\n",
      "[3839 rows x 3 columns]\n"
     ]
    }
   ],
   "source": [
    "# Output CTR per link\n",
    "print(\"\\nCTR per link:\")\n",
    "print(ctr_per_link[['clicks', 'pageviews', 'CTR']].sort_values(by='CTR', ascending=False))"
   ]
  },
  {
   "cell_type": "markdown",
   "id": "e6ba5569",
   "metadata": {},
   "source": [
    "# Correlation Analysis:\n"
   ]
  },
  {
   "cell_type": "markdown",
   "id": "d3c36274",
   "metadata": {},
   "source": [
    "### **Linear Correlation:** ### \n",
    "This examines whether there's a continuous linear relationship between the number of previews and clicks. We can use Pearson’s correlation coefficient for this purpose."
   ]
  },
  {
   "cell_type": "markdown",
   "id": "24054780",
   "metadata": {},
   "source": [
    "### **Categorical (Binary) Relationship:** ###\n",
    "This looks at whether the presence of previews (i.e., previews > 0) significantly affects whether a link receives clicks (i.e., clicks > 0). This can be tested using statistical methods such as a Chi-Square Test or Logistic Regression"
   ]
  },
  {
   "cell_type": "markdown",
   "id": "3a36588d",
   "metadata": {},
   "source": [
    "### **Pearson Correlation:** ###"
   ]
  },
  {
   "cell_type": "markdown",
   "id": "234cc604",
   "metadata": {},
   "source": [
    "- If the correlation value is close to 1 or -1, it indicates a strong linear relationship between the number of previews and clicks. A value close to 0 suggests no linear relationship."
   ]
  },
  {
   "cell_type": "markdown",
   "id": "bca45f77",
   "metadata": {},
   "source": [
    "- The p-value tells us whether the correlation is statistically significant (commonly, p < 0.05 indicates significance)."
   ]
  },
  {
   "cell_type": "markdown",
   "id": "10a37b24",
   "metadata": {},
   "source": [
    "### **Chi-Square Test:** ###"
   ]
  },
  {
   "cell_type": "markdown",
   "id": "8615e0c5",
   "metadata": {},
   "source": [
    "A significant p-value (p < 0.05) from the Chi-Square test would suggest that the presence of previews is associated with the likelihood of receiving clicks."
   ]
  },
  {
   "cell_type": "markdown",
   "id": "2cfe87c0",
   "metadata": {},
   "source": [
    "We convert the data into binary categories (i.e., whether a link has any clicks or previews). A Chi-Square test is performed on a contingency table that shows the counts of links with and without previews and clicks. The result gives us a Chi-Square value and a p-value to indicate whether there is a significant association between clicks and previews."
   ]
  },
  {
   "cell_type": "code",
   "execution_count": 26,
   "id": "3d941008",
   "metadata": {},
   "outputs": [],
   "source": [
    "from scipy.stats import pearsonr, chi2_contingency"
   ]
  },
  {
   "cell_type": "code",
   "execution_count": 27,
   "id": "bd5301e7",
   "metadata": {},
   "outputs": [],
   "source": [
    "# Count clicks and previews per link\n",
    "link_stats = data.groupby('linkid')['event'].value_counts().unstack(fill_value=0)\n"
   ]
  },
  {
   "cell_type": "code",
   "execution_count": 28,
   "id": "c3752ebf",
   "metadata": {},
   "outputs": [
    {
     "data": {
      "text/html": [
       "<div>\n",
       "<style scoped>\n",
       "    .dataframe tbody tr th:only-of-type {\n",
       "        vertical-align: middle;\n",
       "    }\n",
       "\n",
       "    .dataframe tbody tr th {\n",
       "        vertical-align: top;\n",
       "    }\n",
       "\n",
       "    .dataframe thead th {\n",
       "        text-align: right;\n",
       "    }\n",
       "</style>\n",
       "<table border=\"1\" class=\"dataframe\">\n",
       "  <thead>\n",
       "    <tr style=\"text-align: right;\">\n",
       "      <th>event</th>\n",
       "      <th>click</th>\n",
       "      <th>pageview</th>\n",
       "      <th>preview</th>\n",
       "    </tr>\n",
       "    <tr>\n",
       "      <th>linkid</th>\n",
       "      <th></th>\n",
       "      <th></th>\n",
       "      <th></th>\n",
       "    </tr>\n",
       "  </thead>\n",
       "  <tbody>\n",
       "    <tr>\n",
       "      <th>00073307-ae96-5089-a117-4783afb42f8e</th>\n",
       "      <td>0</td>\n",
       "      <td>2</td>\n",
       "      <td>0</td>\n",
       "    </tr>\n",
       "    <tr>\n",
       "      <th>00126b32-0c35-507b-981c-02c80d2aa8e7</th>\n",
       "      <td>2</td>\n",
       "      <td>2</td>\n",
       "      <td>0</td>\n",
       "    </tr>\n",
       "    <tr>\n",
       "      <th>0018cfff-50a1-5984-9715-01ef2d11a49a</th>\n",
       "      <td>0</td>\n",
       "      <td>1</td>\n",
       "      <td>0</td>\n",
       "    </tr>\n",
       "    <tr>\n",
       "      <th>0033934b-5d16-5a06-af58-d087bcdd3680</th>\n",
       "      <td>0</td>\n",
       "      <td>1</td>\n",
       "      <td>0</td>\n",
       "    </tr>\n",
       "    <tr>\n",
       "      <th>0034d6cf-3bd8-5ffe-aafc-b3959fc48608</th>\n",
       "      <td>0</td>\n",
       "      <td>1</td>\n",
       "      <td>0</td>\n",
       "    </tr>\n",
       "    <tr>\n",
       "      <th>...</th>\n",
       "      <td>...</td>\n",
       "      <td>...</td>\n",
       "      <td>...</td>\n",
       "    </tr>\n",
       "    <tr>\n",
       "      <th>fff38ca0-8043-50cd-a5f1-f65ebb7105c5</th>\n",
       "      <td>1</td>\n",
       "      <td>1</td>\n",
       "      <td>0</td>\n",
       "    </tr>\n",
       "    <tr>\n",
       "      <th>fff4e5f0-4ee5-5fe7-aa30-e870edaf6ed7</th>\n",
       "      <td>0</td>\n",
       "      <td>2</td>\n",
       "      <td>0</td>\n",
       "    </tr>\n",
       "    <tr>\n",
       "      <th>fff84c0e-90a1-59d8-9997-adc909d50e16</th>\n",
       "      <td>1</td>\n",
       "      <td>1</td>\n",
       "      <td>0</td>\n",
       "    </tr>\n",
       "    <tr>\n",
       "      <th>fffc17a7-f935-5d3e-bd3e-d761fd80d479</th>\n",
       "      <td>1</td>\n",
       "      <td>2</td>\n",
       "      <td>0</td>\n",
       "    </tr>\n",
       "    <tr>\n",
       "      <th>fffd0045-29de-522b-b5d8-35786363bf07</th>\n",
       "      <td>1</td>\n",
       "      <td>2</td>\n",
       "      <td>0</td>\n",
       "    </tr>\n",
       "  </tbody>\n",
       "</table>\n",
       "<p>3839 rows × 3 columns</p>\n",
       "</div>"
      ],
      "text/plain": [
       "event                                 click  pageview  preview\n",
       "linkid                                                        \n",
       "00073307-ae96-5089-a117-4783afb42f8e      0         2        0\n",
       "00126b32-0c35-507b-981c-02c80d2aa8e7      2         2        0\n",
       "0018cfff-50a1-5984-9715-01ef2d11a49a      0         1        0\n",
       "0033934b-5d16-5a06-af58-d087bcdd3680      0         1        0\n",
       "0034d6cf-3bd8-5ffe-aafc-b3959fc48608      0         1        0\n",
       "...                                     ...       ...      ...\n",
       "fff38ca0-8043-50cd-a5f1-f65ebb7105c5      1         1        0\n",
       "fff4e5f0-4ee5-5fe7-aa30-e870edaf6ed7      0         2        0\n",
       "fff84c0e-90a1-59d8-9997-adc909d50e16      1         1        0\n",
       "fffc17a7-f935-5d3e-bd3e-d761fd80d479      1         2        0\n",
       "fffd0045-29de-522b-b5d8-35786363bf07      1         2        0\n",
       "\n",
       "[3839 rows x 3 columns]"
      ]
     },
     "execution_count": 28,
     "metadata": {},
     "output_type": "execute_result"
    }
   ],
   "source": [
    "link_stats"
   ]
  },
  {
   "cell_type": "code",
   "execution_count": 29,
   "id": "672b1316",
   "metadata": {},
   "outputs": [],
   "source": [
    "# Ensure 'click' and 'preview' columns exist\n",
    "if 'click' not in link_stats.columns:\n",
    "    link_stats['click'] = 0\n",
    "if 'preview' not in link_stats.columns:\n",
    "    link_stats['preview'] = 0"
   ]
  },
  {
   "cell_type": "code",
   "execution_count": 30,
   "id": "c80867a4",
   "metadata": {},
   "outputs": [
    {
     "name": "stdout",
     "output_type": "stream",
     "text": [
      "Pearson Correlation: 0.9887, P-value: 0.0000\n"
     ]
    }
   ],
   "source": [
    "# 1. Pearson Correlation (Linear Correlation between clicks and previews)\n",
    "correlation, p_value = pearsonr(link_stats['click'], link_stats['preview'])\n",
    "print(f\"Pearson Correlation: {correlation:.4f}, P-value: {p_value:.4f}\")"
   ]
  },
  {
   "cell_type": "code",
   "execution_count": 31,
   "id": "cbcc9422",
   "metadata": {},
   "outputs": [],
   "source": [
    "# 2. Chi-Square Test (Binary relationship)\n",
    "link_stats['click_binary'] = (link_stats['click'] > 0).astype(int)\n",
    "link_stats['preview_binary'] = (link_stats['preview'] > 0).astype(int)"
   ]
  },
  {
   "cell_type": "code",
   "execution_count": 32,
   "id": "e66ae9b4",
   "metadata": {},
   "outputs": [
    {
     "name": "stdout",
     "output_type": "stream",
     "text": [
      "Chi-Square Test: Chi2 = 285.5423, P-value = 0.0000\n"
     ]
    }
   ],
   "source": [
    "# Create contingency table for Chi-Square test\n",
    "contingency_table = pd.crosstab(link_stats['click_binary'], link_stats['preview_binary'])\n",
    "\n",
    "# Chi-Square Test\n",
    "chi2, p, _, _ = chi2_contingency(contingency_table)\n",
    "print(f\"Chi-Square Test: Chi2 = {chi2:.4f}, P-value = {p:.4f}\")"
   ]
  },
  {
   "cell_type": "code",
   "execution_count": null,
   "id": "e655de8b",
   "metadata": {},
   "outputs": [],
   "source": []
  }
 ],
 "metadata": {
  "kernelspec": {
   "display_name": "Python 3",
   "language": "python",
   "name": "python3"
  },
  "language_info": {
   "codemirror_mode": {
    "name": "ipython",
    "version": 3
   },
   "file_extension": ".py",
   "mimetype": "text/x-python",
   "name": "python",
   "nbconvert_exporter": "python",
   "pygments_lexer": "ipython3",
   "version": "3.8.8"
  }
 },
 "nbformat": 4,
 "nbformat_minor": 5
}
